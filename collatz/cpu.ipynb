{
 "cells": [
  {
   "cell_type": "markdown",
   "metadata": {},
   "source": [
    "# Collatz Conjecture"
   ]
  },
  {
   "cell_type": "markdown",
   "metadata": {},
   "source": [
    "3n + 1 problem\n",
    "\n",
    "Counterexample\n",
    "* Cycle That Does Not Contain One\n",
    "* Increase Without Bound\n",
    "\n",
    "K-Cycle\n",
    "* Can be partitioned into 2k subsequences of same direction\n",
    "* k refers to the number of switches in ascending/descending order\n",
    "* Strictly increasing then deceasing is a 1-cycle\n",
    "* Increase, decrease, increase, decrease is a 2-cycle\n",
    "* It has been proven that there is no k-cycle below or equal to k-68\n",
    "* k-68 proof also gives upper bound on size of smallest element in cycles above k-68\n",
    "* Verification of conjecture up to 2^68 along with ^ implies there are no cycles below k-77\n",
    "\n",
    "Backwards Approach - prove that 1 leads to all positive numbers using inverse conjecture\n",
    "\n",
    "Binary Machine\n",
    "* Append 1 to the right (results in 2n + 1)\n",
    "* Add original number resulting in (3n + 1)\n",
    "* Remove trailing zeros to divide by 2 until odd"
   ]
  },
  {
   "cell_type": "code",
   "execution_count": 4,
   "metadata": {},
   "outputs": [],
   "source": [
    "import numpy as np\n",
    "import matplotlib.pyplot as plt\n",
    "import time"
   ]
  },
  {
   "cell_type": "code",
   "execution_count": 2,
   "metadata": {},
   "outputs": [],
   "source": [
    "memoization_set = set()"
   ]
  },
  {
   "cell_type": "code",
   "execution_count": 3,
   "metadata": {},
   "outputs": [],
   "source": [
    "def reset():\n",
    "    memoization_set = set()"
   ]
  },
  {
   "cell_type": "code",
   "execution_count": 4,
   "metadata": {},
   "outputs": [],
   "source": [
    "def basic_collatz(n):\n",
    "    return n / 2 if (n % 2) == 0 else (3*n + 1)"
   ]
  },
  {
   "cell_type": "code",
   "execution_count": 5,
   "metadata": {},
   "outputs": [],
   "source": [
    "def short_collatz(n):\n",
    "    return n / 2 if (n % 2) == 0 else ((3*n + 1)/2)"
   ]
  },
  {
   "cell_type": "code",
   "execution_count": 6,
   "metadata": {},
   "outputs": [],
   "source": [
    "def short_collatz_2(n):\n",
    "    return n / 2 if (n % 2) == 0 else (1.5*n + 0.5)"
   ]
  },
  {
   "cell_type": "code",
   "execution_count": 7,
   "metadata": {},
   "outputs": [],
   "source": [
    "def bitwise_collatz(n):\n",
    "    if n % 2 == 0:\n",
    "        return 1\n",
    "    threenplus1 = (((n << 1) | 0b1) + n)\n",
    "    return threenplus1 >> int.bit_length(((threenplus1 - 1) ^ threenplus1) >> 1)\n",
    "    "
   ]
  },
  {
   "cell_type": "code",
   "execution_count": 8,
   "metadata": {},
   "outputs": [],
   "source": [
    "def apply_collatz(start_number, fun, use_memo=False):\n",
    "    steps = 0\n",
    "    working_number = start_number\n",
    "    while working_number != 1 and not (use_memo and working_number in memoization_set):\n",
    "        working_number = fun(working_number)\n",
    "        steps += 1\n",
    "    memoization_set.add(start_number)\n",
    "    return steps"
   ]
  },
  {
   "cell_type": "markdown",
   "metadata": {},
   "source": [
    "## Benchmark"
   ]
  },
  {
   "cell_type": "markdown",
   "metadata": {},
   "source": [
    "### Non Memo"
   ]
  },
  {
   "cell_type": "code",
   "execution_count": 9,
   "metadata": {},
   "outputs": [],
   "source": [
    "start_numbers = [int(x) for x in np.arange(1, 1000001)]"
   ]
  },
  {
   "cell_type": "code",
   "execution_count": 10,
   "metadata": {
    "scrolled": true
   },
   "outputs": [
    {
     "name": "stdout",
     "output_type": "stream",
     "text": [
      "27.054404735565186 s\n"
     ]
    }
   ],
   "source": [
    "st = time.time()\n",
    "r = [apply_collatz(x, basic_collatz)for x in start_numbers]\n",
    "basic_time = time.time() - st\n",
    "print(basic_time, \"s\")"
   ]
  },
  {
   "cell_type": "code",
   "execution_count": 11,
   "metadata": {},
   "outputs": [
    {
     "name": "stdout",
     "output_type": "stream",
     "text": [
      "19.594148635864258 s\n"
     ]
    }
   ],
   "source": [
    "st = time.time()\n",
    "r = [apply_collatz(x, short_collatz) for x in start_numbers]\n",
    "short_time = time.time() - st\n",
    "print(short_time, \"s\")"
   ]
  },
  {
   "cell_type": "code",
   "execution_count": 12,
   "metadata": {
    "scrolled": true
   },
   "outputs": [
    {
     "name": "stdout",
     "output_type": "stream",
     "text": [
      "17.297462463378906 s\n"
     ]
    }
   ],
   "source": [
    "st = time.time()\n",
    "r = [apply_collatz(x, short_collatz_2) for x in start_numbers]\n",
    "short_2_time = time.time() - st\n",
    "print(short_2_time, \"s\")"
   ]
  },
  {
   "cell_type": "code",
   "execution_count": 13,
   "metadata": {},
   "outputs": [
    {
     "name": "stdout",
     "output_type": "stream",
     "text": [
      "7.964312314987183 s\n"
     ]
    }
   ],
   "source": [
    "st = time.time()\n",
    "r = [apply_collatz(x, bitwise_collatz) for x in start_numbers]\n",
    "bitwise_time = time.time() - st\n",
    "print(bitwise_time, \"s\")"
   ]
  },
  {
   "cell_type": "markdown",
   "metadata": {},
   "source": [
    "### Memo"
   ]
  },
  {
   "cell_type": "code",
   "execution_count": 14,
   "metadata": {},
   "outputs": [
    {
     "name": "stdout",
     "output_type": "stream",
     "text": [
      "0.2223982810974121 s\n"
     ]
    }
   ],
   "source": [
    "reset()\n",
    "st = time.time()\n",
    "r = [apply_collatz(x, basic_collatz, use_memo=True)for x in start_numbers]\n",
    "basic_time_mem = time.time() - st\n",
    "print(basic_time_mem, \"s\")"
   ]
  },
  {
   "cell_type": "code",
   "execution_count": 15,
   "metadata": {},
   "outputs": [
    {
     "name": "stdout",
     "output_type": "stream",
     "text": [
      "0.22131943702697754 s\n"
     ]
    }
   ],
   "source": [
    "reset()\n",
    "st = time.time()\n",
    "r = [apply_collatz(x, short_collatz, use_memo=True) for x in start_numbers]\n",
    "short_time_memo = time.time() - st\n",
    "print(short_time_memo, \"s\")"
   ]
  },
  {
   "cell_type": "code",
   "execution_count": 16,
   "metadata": {},
   "outputs": [
    {
     "name": "stdout",
     "output_type": "stream",
     "text": [
      "0.2232975959777832 s\n"
     ]
    }
   ],
   "source": [
    "reset()\n",
    "st = time.time()\n",
    "r = [apply_collatz(x, short_collatz_2, use_memo=True) for x in start_numbers]\n",
    "short_2_time_memo = time.time() - st\n",
    "print(short_2_time_memo, \"s\")"
   ]
  },
  {
   "cell_type": "code",
   "execution_count": 21,
   "metadata": {},
   "outputs": [
    {
     "name": "stdout",
     "output_type": "stream",
     "text": [
      "0.22229433059692383 s\n"
     ]
    }
   ],
   "source": [
    "reset()\n",
    "st = time.time()\n",
    "r = [apply_collatz(x, bitwise_collatz, use_memo=True) for x in start_numbers]\n",
    "bitwise_memo = time.time() - st\n",
    "print(bitwise_memo, \"s\")"
   ]
  },
  {
   "cell_type": "code",
   "execution_count": 18,
   "metadata": {},
   "outputs": [],
   "source": [
    "all_times = [basic_time, short_time, short_2_time, bitwise_time, \n",
    "             basic_time_mem, short_time_memo, short_2_time_memo, bitwise_memo]"
   ]
  },
  {
   "cell_type": "markdown",
   "metadata": {},
   "source": [
    "## Plot Results"
   ]
  },
  {
   "cell_type": "code",
   "execution_count": 19,
   "metadata": {},
   "outputs": [],
   "source": [
    "def labeled_bar(values, labels, title=\"\", ylabel=\"\"):\n",
    "    values = np.array(values)\n",
    "    fig, ax = plt.subplots()\n",
    "    ax.bar(np.arange(len(labels)), values, align='center', alpha=0.5, ecolor='black', capsize=10)\n",
    "    ax.set_ylabel(ylabel)\n",
    "    ax.set_xticks(np.arange(len(labels)))\n",
    "    ax.set_xticklabels(labels, rotation=45)\n",
    "    ax.set_title(title)\n",
    "    ax.yaxis.grid(True)\n",
    "    plt.tight_layout()\n",
    "    plt.show()"
   ]
  },
  {
   "cell_type": "code",
   "execution_count": 20,
   "metadata": {
    "scrolled": true
   },
   "outputs": [
    {
     "data": {
      "image/png": "[encoded data removed]",
      "text/plain": [
       "<Figure size 432x288 with 1 Axes>"
      ]
     },
     "metadata": {
      "needs_background": "light"
     },
     "output_type": "display_data"
    },
    {
     "name": "stdout",
     "output_type": "stream",
     "text": [
      "[27.054404735565186, 19.594148635864258, 17.297462463378906, 7.964312314987183, 0.2223982810974121, 0.22131943702697754, 0.2232975959777832, 0.22508549690246582]\n"
     ]
    }
   ],
   "source": [
    "title = \"CPU Algorithm Times\"\n",
    "labels = [\"BASIC\", \"SHORT MAP\", \"SHORT MAP 2\", \"BITWISE\", \"BASIC_MEMO\", \"SHORT MAP MEMO\", \"SHORT MAP 2 MEMO\", \"BITWISE MEMO\"]\n",
    "labeled_bar(all_times, labels, title=title, ylabel=\"100,000 execution time (s)\")\n",
    "print(all_times)"
   ]
  }
 ],
 "metadata": {
  "kernelspec": {
   "display_name": "Python 3",
   "language": "python",
   "name": "python3"
  },
  "language_info": {
   "codemirror_mode": {
    "name": "ipython",
    "version": 3
   },
   "file_extension": ".py",
   "mimetype": "text/x-python",
   "name": "python",
   "nbconvert_exporter": "python",
   "pygments_lexer": "ipython3",
   "version": "3.7.3"
  }
 },
 "nbformat": 4,
 "nbformat_minor": 2
}
