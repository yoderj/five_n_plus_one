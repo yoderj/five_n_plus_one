{
 "cells": [
  {
   "cell_type": "markdown",
   "metadata": {},
   "source": [
    "# 5N + 1 Removing All Prime Factors Except 2 and 3"
   ]
  },
  {
   "cell_type": "code",
   "execution_count": 34,
   "metadata": {},
   "outputs": [],
   "source": [
    "def which_power_of_two(mod=81):\n",
    "    current_number = 1\n",
    "    for i in range(mod//3):\n",
    "        if ((5*current_number+1)%mod) == 0:\n",
    "            print(i)\n",
    "        current_number *=4\n",
    "        current_number %=mod   "
   ]
  },
  {
   "cell_type": "code",
   "execution_count": 27,
   "metadata": {},
   "outputs": [],
   "source": [
    "def which_power_of_three(mod=32):\n",
    "    '''\n",
    "    Calculate the exponent of three required to \n",
    "    make a number contain a 2^x (mod). \n",
    "    '''\n",
    "    # A number that is a power of three\n",
    "    current_number = 1 \n",
    "    for i in range(mod//4):\n",
    "        if ((5*current_number+1)%mod) == 0:\n",
    "            print(i)\n",
    "        current_number *=3\n",
    "        current_number %=mod"
   ]
  },
  {
   "cell_type": "code",
   "execution_count": 32,
   "metadata": {
    "scrolled": false
   },
   "outputs": [
    {
     "name": "stdout",
     "output_type": "stream",
     "text": [
      "21\n"
     ]
    }
   ],
   "source": [
    "which_power_of_three(mod=128)"
   ]
  },
  {
   "cell_type": "code",
   "execution_count": 35,
   "metadata": {},
   "outputs": [
    {
     "name": "stdout",
     "output_type": "stream",
     "text": [
      "2\n"
     ]
    }
   ],
   "source": [
    "which_power_of_two(81)"
   ]
  }
 ],
 "metadata": {
  "kernelspec": {
   "display_name": "Python 3",
   "language": "python",
   "name": "python3"
  },
  "language_info": {
   "codemirror_mode": {
    "name": "ipython",
    "version": 3
   },
   "file_extension": ".py",
   "mimetype": "text/x-python",
   "name": "python",
   "nbconvert_exporter": "python",
   "pygments_lexer": "ipython3",
   "version": "3.7.3"
  }
 },
 "nbformat": 4,
 "nbformat_minor": 2
}
